{
  "nbformat": 4,
  "nbformat_minor": 0,
  "metadata": {
    "colab": {
      "name": "ass-7.ipynb",
      "provenance": []
    },
    "kernelspec": {
      "name": "python3",
      "display_name": "Python 3"
    }
  },
  "cells": [
    {
      "cell_type": "markdown",
      "metadata": {
        "id": "kwwmL5cnwGeL",
        "colab_type": "text"
      },
      "source": [
        "### **ass-1**"
      ]
    },
    {
      "cell_type": "code",
      "metadata": {
        "id": "flKAPMMavcZQ",
        "colab_type": "code",
        "colab": {
          "base_uri": "https://localhost:8080/",
          "height": 168
        },
        "outputId": "2b124a19-4595-452f-b3db-679aa6588f38"
      },
      "source": [
        "# initializing dictionary  \n",
        "old_dict =  {21: \"FTP\", 22:\"SSH\", 23: \"telnet\", 80: \"http\"}\n",
        "  \n",
        "# Printing original dictionary  \n",
        "print (\"Original dictionary is : \") \n",
        "print(old_dict)  \n",
        "  \n",
        "print() \n",
        "new_dict = {} \n",
        "for key, value in old_dict.items(): \n",
        "   if value in new_dict: \n",
        "       new_dict[value].append(key) \n",
        "   else: \n",
        "       new_dict[value]=[key] \n",
        "  \n",
        "# Printing new dictionary after swapping \n",
        "# keys and values \n",
        "print (\"Dictionary after swapping is :  \")  \n",
        "print(\"keys: values\") \n",
        "for i in new_dict: \n",
        "    print(i, \" :\", new_dict[i]) "
      ],
      "execution_count": null,
      "outputs": [
        {
          "output_type": "stream",
          "text": [
            "Original dictionary is : \n",
            "{21: 'FTP', 22: 'SSH', 23: 'telnet', 80: 'http'}\n",
            "\n",
            "Dictionary after swapping is :  \n",
            "keys: values\n",
            "FTP  : [21]\n",
            "SSH  : [22]\n",
            "telnet  : [23]\n",
            "http  : [80]\n"
          ],
          "name": "stdout"
        }
      ]
    },
    {
      "cell_type": "markdown",
      "metadata": {
        "id": "-Y3x0lfewJZN",
        "colab_type": "text"
      },
      "source": [
        "### **ass-2**"
      ]
    },
    {
      "cell_type": "code",
      "metadata": {
        "id": "ehLb42eUwLTZ",
        "colab_type": "code",
        "colab": {
          "base_uri": "https://localhost:8080/",
          "height": 50
        },
        "outputId": "ee32b4bd-bfb6-428e-e7ec-466b67547ff0"
      },
      "source": [
        "test_list = [(1,2), (3,4), (5,6),(4,5)] \n",
        "  \n",
        "# printing original tuples list \n",
        "print(\"The original list : \" + str(test_list)) \n",
        "  \n",
        "# Summation of tuples in list \n",
        "# using sum() + map() \n",
        "res = sum(map(sum, test_list)) \n",
        "  \n",
        "# printing result \n",
        "print(\"The summation of all tuple elements are : \" + str(res)) \n"
      ],
      "execution_count": null,
      "outputs": [
        {
          "output_type": "stream",
          "text": [
            "The original list : [(1, 2), (3, 4), (5, 6), (4, 5)]\n",
            "The summation of all tuple elements are : 30\n"
          ],
          "name": "stdout"
        }
      ]
    },
    {
      "cell_type": "code",
      "metadata": {
        "id": "zoJLTxTivnxv",
        "colab_type": "code",
        "colab": {
          "base_uri": "https://localhost:8080/",
          "height": 50
        },
        "outputId": "10be0bed-dea8-483a-d02e-af1588a97df5"
      },
      "source": [
        "# initializing list  \n",
        "test_list = [(1,2), (3,4), (5,6),(4,5)]\n",
        "  \n",
        "# printing original list  \n",
        "print (\"The original list is : \" + str(test_list)) \n",
        "  \n",
        "# position Summation in List of Tuples \n",
        "# using list comprehension \n",
        "res = sum(i[0] for i in test_list), sum(i[1] for i in test_list) \n",
        "  \n",
        "# printing summation \n",
        "print (\"The position summation of tuples  : \" + str(res)) \n"
      ],
      "execution_count": null,
      "outputs": [
        {
          "output_type": "stream",
          "text": [
            "The original list is : [(1, 2), (3, 4), (5, 6), (4, 5)]\n",
            "The position summation of tuples  : (13, 17)\n"
          ],
          "name": "stdout"
        }
      ]
    }
  ]
}